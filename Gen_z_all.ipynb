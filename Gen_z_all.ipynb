{
  "metadata": {
    "kernelspec": {
      "language": "python",
      "display_name": "Python 3",
      "name": "python3"
    },
    "language_info": {
      "name": "python",
      "version": "3.10.12",
      "mimetype": "text/x-python",
      "codemirror_mode": {
        "name": "ipython",
        "version": 3
      },
      "pygments_lexer": "ipython3",
      "nbconvert_exporter": "python",
      "file_extension": ".py"
    },
    "kaggle": {
      "accelerator": "nvidiaTeslaT4",
      "dataSources": [
        {
          "sourceId": 2624724,
          "sourceType": "datasetVersion",
          "datasetId": 1595713
        },
        {
          "sourceId": 6892930,
          "sourceType": "datasetVersion",
          "datasetId": 3959783
        },
        {
          "sourceId": 11235309,
          "sourceType": "datasetVersion",
          "datasetId": 7018743
        }
      ],
      "dockerImageVersionId": 31011,
      "isInternetEnabled": true,
      "language": "python",
      "sourceType": "notebook",
      "isGpuEnabled": true
    },
    "colab": {
      "name": "Gen-z-all",
      "provenance": [],
      "include_colab_link": true
    }
  },
  "nbformat_minor": 0,
  "nbformat": 4,
  "cells": [
    {
      "cell_type": "markdown",
      "metadata": {
        "id": "view-in-github",
        "colab_type": "text"
      },
      "source": [
        "<a href=\"https://colab.research.google.com/github/myoohit/Gen-all/blob/main/Gen_z_all.ipynb\" target=\"_parent\"><img src=\"https://colab.research.google.com/assets/colab-badge.svg\" alt=\"Open In Colab\"/></a>"
      ]
    },
    {
      "source": [
        "# IMPORTANT: RUN THIS CELL IN ORDER TO IMPORT YOUR KAGGLE DATA SOURCES,\n",
        "# THEN FEEL FREE TO DELETE THIS CELL.\n",
        "# NOTE: THIS NOTEBOOK ENVIRONMENT DIFFERS FROM KAGGLE'S PYTHON\n",
        "# ENVIRONMENT SO THERE MAY BE MISSING LIBRARIES USED BY YOUR\n",
        "# NOTEBOOK.\n",
        "import kagglehub\n",
        "sugataghosh_google_word2vec_path = kagglehub.dataset_download('sugataghosh/google-word2vec')\n",
        "sanyatargrenkin_cc_en_300_bin_path = kagglehub.dataset_download('sanyatargrenkin/cc-en-300-bin')\n",
        "\n",
        "print('Data source import complete.')\n"
      ],
      "metadata": {
        "id": "zS5MhS4x5_Ef"
      },
      "cell_type": "code",
      "outputs": [],
      "execution_count": null
    },
    {
      "cell_type": "code",
      "source": [
        "# This Python 3 environment comes with many helpful analytics libraries installed\n",
        "# It is defined by the kaggle/python Docker image: https://github.com/kaggle/docker-python\n",
        "# For example, here's several helpful packages to load\n",
        "\n",
        "import numpy as np # linear algebra\n",
        "import pandas as pd # data processing, CSV file I/O (e.g. pd.read_csv)\n",
        "\n",
        "# Input data files are available in the read-only \"../input/\" directory\n",
        "# For example, running this (by clicking run or pressing Shift+Enter) will list all files under the input directory\n",
        "\n",
        "import os\n",
        "for dirname, _, filenames in os.walk('/kaggle/input'):\n",
        "    for filename in filenames:\n",
        "        print(os.path.join(dirname, filename))\n",
        "\n",
        "# You can write up to 20GB to the current directory (/kaggle/working/) that gets preserved as output when you create a version using \"Save & Run All\"\n",
        "# You can also write temporary files to /kaggle/temp/, but they won't be saved outside of the current session"
      ],
      "metadata": {
        "_uuid": "8f2839f25d086af736a60e9eeb907d3b93b6e0e5",
        "_cell_guid": "b1076dfc-b9ad-4769-8c92-a6c4dae69d19",
        "trusted": true,
        "id": "2pkPeB_e5_Eg"
      },
      "outputs": [],
      "execution_count": null
    },
    {
      "cell_type": "code",
      "source": [
        "#pgm1"
      ],
      "metadata": {
        "trusted": true,
        "id": "kokwVcaL5_Eh"
      },
      "outputs": [],
      "execution_count": null
    },
    {
      "cell_type": "code",
      "source": [
        "!pip install --upgrade gensim scipy"
      ],
      "metadata": {
        "trusted": true,
        "id": "VXGxPO1R5_Ei"
      },
      "outputs": [],
      "execution_count": null
    },
    {
      "cell_type": "code",
      "source": [
        "#pgm2\n",
        "#PCA or TSNE"
      ],
      "metadata": {
        "trusted": true,
        "id": "KxdZ72WY5_Ei"
      },
      "outputs": [],
      "execution_count": null
    },
    {
      "cell_type": "code",
      "source": [
        "!pip install --upgrade gensim scipy"
      ],
      "metadata": {
        "trusted": true,
        "execution": {
          "iopub.status.busy": "2025-03-25T03:43:12.591875Z",
          "iopub.execute_input": "2025-03-25T03:43:12.592192Z",
          "iopub.status.idle": "2025-03-25T03:43:19.693459Z",
          "shell.execute_reply.started": "2025-03-25T03:43:12.592164Z",
          "shell.execute_reply": "2025-03-25T03:43:19.69211Z"
        },
        "id": "eWNSt0nv5_Ej"
      },
      "outputs": [],
      "execution_count": null
    },
    {
      "cell_type": "code",
      "source": [
        "from gensim.models.fasttext import load_facebook_model\n",
        "import numpy as np\n",
        "import matplotlib.pyplot as plt\n",
        "from sklearn.decomposition import PCA\n",
        "from sklearn.manifold import TSNE\n",
        "model_path=\"/kaggle/input/cc-en-300-bin/cc.en.300.bin\"\n",
        "fasttext_model=load_facebook_model(model_path)\n",
        "print(\"fasttext model loaded successfully!\")"
      ],
      "metadata": {
        "trusted": true,
        "execution": {
          "iopub.status.busy": "2025-03-25T03:51:27.265591Z",
          "iopub.execute_input": "2025-03-25T03:51:27.266085Z",
          "iopub.status.idle": "2025-03-25T03:53:46.770943Z",
          "shell.execute_reply.started": "2025-03-25T03:51:27.266049Z",
          "shell.execute_reply": "2025-03-25T03:53:46.7691Z"
        },
        "id": "8P8NsROE5_Ej"
      },
      "outputs": [],
      "execution_count": null
    },
    {
      "cell_type": "code",
      "source": [
        "king=fasttext_model.wv[\"king\"]\n",
        "queen=fasttext_model.wv[\"queen\"]\n",
        "print(\"king vector: \",king[:5])\n",
        "print(\"queen vector: \",queen[:5])"
      ],
      "metadata": {
        "trusted": true,
        "execution": {
          "iopub.status.busy": "2025-03-25T03:58:53.929872Z",
          "iopub.execute_input": "2025-03-25T03:58:53.931369Z",
          "iopub.status.idle": "2025-03-25T03:58:53.94686Z",
          "shell.execute_reply.started": "2025-03-25T03:58:53.931314Z",
          "shell.execute_reply": "2025-03-25T03:58:53.944773Z"
        },
        "id": "Rn9X4gRL5_Ej"
      },
      "outputs": [],
      "execution_count": null
    },
    {
      "cell_type": "code",
      "source": [
        "tech_words=['Lawyer','Judge','Court','Fruit','Quantum','Encryption','database','computernetworks','Cybersecurity','Artificialintelligence']\n",
        "for i in tech_words:\n",
        "    print(i)"
      ],
      "metadata": {
        "trusted": true,
        "execution": {
          "iopub.status.busy": "2025-03-25T04:28:10.851041Z",
          "iopub.execute_input": "2025-03-25T04:28:10.851482Z",
          "iopub.status.idle": "2025-03-25T04:28:10.860728Z",
          "shell.execute_reply.started": "2025-03-25T04:28:10.851454Z",
          "shell.execute_reply": "2025-03-25T04:28:10.859221Z"
        },
        "id": "0lLPVH0g5_Ek"
      },
      "outputs": [],
      "execution_count": null
    },
    {
      "cell_type": "code",
      "source": [
        "word_vectors=np.array([fasttext_model.wv[word] for word in tech_words])\n",
        "word_vectors[0],word_vectors[1]"
      ],
      "metadata": {
        "trusted": true,
        "execution": {
          "iopub.status.busy": "2025-03-25T04:28:14.417707Z",
          "iopub.execute_input": "2025-03-25T04:28:14.418108Z",
          "iopub.status.idle": "2025-03-25T04:28:14.431237Z",
          "shell.execute_reply.started": "2025-03-25T04:28:14.418077Z",
          "shell.execute_reply": "2025-03-25T04:28:14.430256Z"
        },
        "id": "Rex7x8Rr5_Ek"
      },
      "outputs": [],
      "execution_count": null
    },
    {
      "cell_type": "code",
      "source": [
        "pca=PCA(n_components=2)\n",
        "embeddings_2d=pca.fit_transform(word_vectors)\n",
        "plt.figure(figsize=(10,8))\n",
        "plt.scatter(embeddings_2d[:,0],embeddings_2d[:,1],marker='o',color='blue')\n",
        "for i,word in enumerate(tech_words):\n",
        "    plt.annotate(word,(embeddings_2d[i,0],embeddings_2d[i,1]),fontsize=12)\n",
        "plt.title(\"2D PCA projection of technology word embeddings\")\n",
        "plt.xlabel(\"PCA Component 1\")\n",
        "plt.ylabel(\"PCA Component 2\")\n",
        "plt.grid()\n",
        "plt.show"
      ],
      "metadata": {
        "trusted": true,
        "execution": {
          "iopub.status.busy": "2025-03-25T04:28:20.611602Z",
          "iopub.execute_input": "2025-03-25T04:28:20.612121Z",
          "iopub.status.idle": "2025-03-25T04:28:20.996284Z",
          "shell.execute_reply.started": "2025-03-25T04:28:20.612081Z",
          "shell.execute_reply": "2025-03-25T04:28:20.995049Z"
        },
        "id": "MYo0-Gjj5_El"
      },
      "outputs": [],
      "execution_count": null
    },
    {
      "cell_type": "code",
      "source": [
        "import gensim\n",
        "word_vectors = gensim.models.KeyedVectors.load_word2vec_format(\"/kaggle/input/google-word2vec/GoogleNews-vectors-negative300.bin\",binary=True)\n",
        "def find_similar_words(word, top_n=5):\n",
        "    try:\n",
        "        similar_words = word_vectors.most_similar(word, topn=top_n)\n",
        "        return similar_words\n",
        "    except KeyError:\n",
        "        return f\"The word '{word}' is not in the vocabulary.\"\n",
        "word = \"king\"\n",
        "similar_words = find_similar_words(word)\n",
        "print(f\"Top 5 similar words to '{word}':\")\n",
        "for sim_word, similarity in similar_words:\n",
        "    print(f\"{sim_word}: {similarity}\")\n"
      ],
      "metadata": {
        "trusted": true,
        "execution": {
          "iopub.status.busy": "2025-03-25T05:09:41.040188Z",
          "iopub.execute_input": "2025-03-25T05:09:41.040556Z",
          "iopub.status.idle": "2025-03-25T05:10:44.055381Z",
          "shell.execute_reply.started": "2025-03-25T05:09:41.040528Z",
          "shell.execute_reply": "2025-03-25T05:10:44.053977Z"
        },
        "id": "SnLyQ73-5_El"
      },
      "outputs": [],
      "execution_count": null
    },
    {
      "cell_type": "code",
      "source": [
        "#pgm3"
      ],
      "metadata": {
        "trusted": true,
        "id": "JwoVUJEo5_Em"
      },
      "outputs": [],
      "execution_count": null
    },
    {
      "cell_type": "code",
      "source": [
        "!pip install gensim nltk"
      ],
      "metadata": {
        "trusted": true,
        "execution": {
          "iopub.status.busy": "2025-03-25T05:23:58.656733Z",
          "iopub.execute_input": "2025-03-25T05:23:58.657257Z",
          "iopub.status.idle": "2025-03-25T05:24:05.06797Z",
          "shell.execute_reply.started": "2025-03-25T05:23:58.657222Z",
          "shell.execute_reply": "2025-03-25T05:24:05.066392Z"
        },
        "id": "R5Kgi-Jg5_Em"
      },
      "outputs": [],
      "execution_count": null
    },
    {
      "cell_type": "code",
      "source": [
        "import nltk\n",
        "from nltk.tokenize import sent_tokenize,word_tokenize\n",
        "nltk.download('punkt')\n",
        "medical_corpus=[\n",
        "    \"The patient was diagnosed with hypertension after several visits to the clinic.\",\n",
        "    \"In clinical trials, new medications are often tested for their efficacy and side effects.\",\n",
        "    \"The physician recommended a follow-up appointment to monitor the patient’s recovery.\",\n",
        "    \"A balanced diet and regular exercise are essential for maintaining cardiovascular health.\",\n",
        "    \"The nurse administered the vaccine to the patient as part of the immunization program.\",\n",
        "    \"MRI scans are frequently used to assess the condition of the brain and spinal cord.\",\n",
        "    \"Chronic conditions, such as diabetes, require ongoing management to prevent complications.\"\n",
        "]"
      ],
      "metadata": {
        "trusted": true,
        "execution": {
          "iopub.status.busy": "2025-03-25T05:28:28.878884Z",
          "iopub.execute_input": "2025-03-25T05:28:28.879511Z",
          "iopub.status.idle": "2025-03-25T05:28:30.082889Z",
          "shell.execute_reply.started": "2025-03-25T05:28:28.879473Z",
          "shell.execute_reply": "2025-03-25T05:28:30.081754Z"
        },
        "id": "gtVOOHlu5_Em"
      },
      "outputs": [],
      "execution_count": null
    },
    {
      "cell_type": "code",
      "source": [
        "tokenized_corpus=[word_tokenize(sentence.lower()) for sentence in medical_corpus]\n",
        "print(tokenized_corpus)"
      ],
      "metadata": {
        "trusted": true,
        "execution": {
          "iopub.status.busy": "2025-03-25T05:31:38.384122Z",
          "iopub.execute_input": "2025-03-25T05:31:38.384601Z",
          "iopub.status.idle": "2025-03-25T05:31:38.405359Z",
          "shell.execute_reply.started": "2025-03-25T05:31:38.384568Z",
          "shell.execute_reply": "2025-03-25T05:31:38.40407Z"
        },
        "id": "5USdXiBn5_En"
      },
      "outputs": [],
      "execution_count": null
    },
    {
      "cell_type": "code",
      "source": [
        "print(\"Training Word2Vec model...\")\n",
        "model=Word2Vec(sentences=tokenized_corpus,vector_size=100,window=5,min_count=1,workers=4,epochs=50)\n",
        "print(\"Model Training Complete!\")"
      ],
      "metadata": {
        "trusted": true,
        "execution": {
          "iopub.status.busy": "2025-03-25T05:34:28.386196Z",
          "iopub.execute_input": "2025-03-25T05:34:28.386684Z",
          "iopub.status.idle": "2025-03-25T05:34:28.504335Z",
          "shell.execute_reply.started": "2025-03-25T05:34:28.38665Z",
          "shell.execute_reply": "2025-03-25T05:34:28.503322Z"
        },
        "id": "7_vQNoW05_En"
      },
      "outputs": [],
      "execution_count": null
    },
    {
      "cell_type": "code",
      "source": [
        "words=list(model.wv.index_to_key)\n",
        "embeddings=np.array([model.wv[word] for word in words])\n",
        "tsne=TSNE(n_components=2,random_state=42,perplexity=5,n_iter=300)\n",
        "tsne_result=tsne.fit_transform(embeddings)\n",
        "plt.figure(figsize=(10,8))\n",
        "plt.scatter(tsne_result[:,0],tsne_result[:,1],color=\"blue\")\n",
        "for i,word in enumerate(words):\n",
        "    plt.text(tsne_result[i,0]+0.02,tsne_result[i,1]+0.02,word,fontsize=12)\n",
        "plt.title(\"Word Embeddings Visualization\")\n",
        "plt.xlabel(\"Dimension 1\")\n",
        "plt.ylabel(\"Dimension 2\")\n",
        "plt.grid()\n",
        "plt.show"
      ],
      "metadata": {
        "trusted": true,
        "execution": {
          "iopub.status.busy": "2025-03-25T05:52:12.404365Z",
          "iopub.execute_input": "2025-03-25T05:52:12.404703Z",
          "iopub.status.idle": "2025-03-25T05:52:13.118661Z",
          "shell.execute_reply.started": "2025-03-25T05:52:12.404678Z",
          "shell.execute_reply": "2025-03-25T05:52:13.117205Z"
        },
        "id": "TrvGIk7V5_En"
      },
      "outputs": [],
      "execution_count": null
    },
    {
      "cell_type": "code",
      "source": [
        "def find_similar_words(input_word,top_n=5):\n",
        "    try:\n",
        "        similar_words=model.wv.most_similar(input_word,topn=top_n)\n",
        "        print(f\"Words similar to '{input_word}':\")\n",
        "        for word,similarity in similar_words:\n",
        "            print(f\"{word}({similarity:.2f})\")\n",
        "    except KeyError:\n",
        "        print(f\"'{input_word}'not found in vocabulary.\")\n",
        "find_similar_words(\"vaccine\")"
      ],
      "metadata": {
        "trusted": true,
        "execution": {
          "iopub.status.busy": "2025-03-25T05:51:12.709575Z",
          "iopub.execute_input": "2025-03-25T05:51:12.710053Z",
          "iopub.status.idle": "2025-03-25T05:51:12.719971Z",
          "shell.execute_reply.started": "2025-03-25T05:51:12.710022Z",
          "shell.execute_reply": "2025-03-25T05:51:12.718722Z"
        },
        "id": "ux-YXjS75_Eo"
      },
      "outputs": [],
      "execution_count": null
    },
    {
      "cell_type": "code",
      "source": [
        "#pgm4\n"
      ],
      "metadata": {
        "trusted": true,
        "id": "EOsE7wyl5_Eo"
      },
      "outputs": [],
      "execution_count": null
    },
    {
      "cell_type": "code",
      "source": [
        "!pip install groq\n",
        "!pip install gensim"
      ],
      "metadata": {
        "trusted": true,
        "execution": {
          "iopub.status.busy": "2025-03-26T04:07:56.355045Z",
          "iopub.execute_input": "2025-03-26T04:07:56.355436Z",
          "iopub.status.idle": "2025-03-26T04:08:06.755978Z",
          "shell.execute_reply.started": "2025-03-26T04:07:56.355405Z",
          "shell.execute_reply": "2025-03-26T04:08:06.75457Z"
        },
        "id": "nMRqgaiI5_Eo"
      },
      "outputs": [],
      "execution_count": null
    },
    {
      "cell_type": "code",
      "source": [
        "import groq\n",
        "from gensim.models import KeyedVectors\n",
        "import numpy as np\n",
        "import os"
      ],
      "metadata": {
        "trusted": true,
        "execution": {
          "iopub.status.busy": "2025-03-26T04:08:37.092741Z",
          "iopub.execute_input": "2025-03-26T04:08:37.093206Z",
          "iopub.status.idle": "2025-03-26T04:08:55.35184Z",
          "shell.execute_reply.started": "2025-03-26T04:08:37.093168Z",
          "shell.execute_reply": "2025-03-26T04:08:55.350731Z"
        },
        "id": "o-0Mk49g5_Ep"
      },
      "outputs": [],
      "execution_count": null
    },
    {
      "cell_type": "code",
      "source": [
        "def load_word_vectors():\n",
        "    model_path=\"/kaggle/input/google-word2vec/GoogleNews-vectors-negative300.bin\"\n",
        "    model=KeyedVectors.load_word2vec_format(model_path,binary=True)\n",
        "    return model\n",
        "model=load_word_vectors()"
      ],
      "metadata": {
        "trusted": true,
        "execution": {
          "iopub.status.busy": "2025-03-26T04:11:33.506993Z",
          "iopub.execute_input": "2025-03-26T04:11:33.507964Z",
          "iopub.status.idle": "2025-03-26T04:12:31.690107Z",
          "shell.execute_reply.started": "2025-03-26T04:11:33.507918Z",
          "shell.execute_reply": "2025-03-26T04:12:31.689188Z"
        },
        "id": "wwSzso4O5_Ep"
      },
      "outputs": [],
      "execution_count": null
    },
    {
      "cell_type": "code",
      "source": [
        "# Get the vector for the word \"king\"\n",
        "king_vector = model['king']\n",
        "\n",
        "# Display the vector\n",
        "print(king_vector)"
      ],
      "metadata": {
        "trusted": true,
        "execution": {
          "iopub.status.busy": "2025-03-26T04:16:28.499723Z",
          "iopub.execute_input": "2025-03-26T04:16:28.500169Z",
          "iopub.status.idle": "2025-03-26T04:16:28.571325Z",
          "shell.execute_reply.started": "2025-03-26T04:16:28.500141Z",
          "shell.execute_reply": "2025-03-26T04:16:28.570088Z"
        },
        "id": "_ZidubKB5_Ep"
      },
      "outputs": [],
      "execution_count": null
    },
    {
      "cell_type": "code",
      "source": [
        "from kaggle_secrets import UserSecretsClient\n",
        "def generate_response(prompt,model_name=\"llama-3.3-70b-versatile\"):\n",
        "    user_secrets=UserSecretsClient()\n",
        "    groq_api_key=user_secrets.get_secret(\"GROQ_API_KEY\")\n",
        "    if not groq_api_key:\n",
        "        raise ValueError(\"GROQ_API_KEY environment variable is not set.\")\n",
        "    client=groq.Client(api_key=groq_api_key)\n",
        "    response=client.chat.completions.create(\n",
        "        model=model_name,\n",
        "        messages=[{\"role\":\"system\",\"content\":\"You are a helpul AI assistant.\"},\n",
        "                 {\"role\":\"user\",\"content\":prompt}]\n",
        "    )\n",
        "    return response.choices[0].message.content\n",
        "original_prompt=\"What is the scope of computer science at present.\"\n",
        "response=generate_response(original_prompt)\n",
        "print(response)"
      ],
      "metadata": {
        "trusted": true,
        "execution": {
          "iopub.status.busy": "2025-03-26T04:45:00.085624Z",
          "iopub.execute_input": "2025-03-26T04:45:00.086187Z",
          "iopub.status.idle": "2025-03-26T04:45:02.928495Z",
          "shell.execute_reply.started": "2025-03-26T04:45:00.086153Z",
          "shell.execute_reply": "2025-03-26T04:45:02.927093Z"
        },
        "id": "KOHi8KJ65_Eq"
      },
      "outputs": [],
      "execution_count": null
    },
    {
      "cell_type": "code",
      "source": [
        "def enrich_prompt(prompt,model,max_enrichments=2):\n",
        "    words=prompt.split()\n",
        "    enriched_words=[]\n",
        "    for word in words:\n",
        "        similar_words=get_similar_words(word,model,top_n=max_enrichments)\n",
        "        filtered_similar_words=[w for w in similar_words if w.isalpha()]\n",
        "        if filtered_similar_words:\n",
        "            enriched_words.append(word + \"(\"+\",\".join(filtered_similar_words)+\")\")\n",
        "        else:\n",
        "            enriched_words.append(word)\n",
        "    return \" \".join(enriched_words)\n",
        "enriched_prompt=enrich_prompt(original_prompt,model)\n",
        "print(\"original prompt:\",original_prompt)\n",
        "print(\"enriched prompt:\",enriched_prompt)"
      ],
      "metadata": {
        "trusted": true,
        "execution": {
          "iopub.status.busy": "2025-03-26T05:17:17.274938Z",
          "iopub.execute_input": "2025-03-26T05:17:17.27539Z",
          "iopub.status.idle": "2025-03-26T05:17:19.703552Z",
          "shell.execute_reply.started": "2025-03-26T05:17:17.275348Z",
          "shell.execute_reply": "2025-03-26T05:17:19.702352Z"
        },
        "id": "33zd4l9d5_Eq"
      },
      "outputs": [],
      "execution_count": null
    },
    {
      "cell_type": "code",
      "source": [
        "original_response=generate_response(original_prompt)\n",
        "enriched_response=generate_response(enriched_prompt)\n",
        "print(\"\\nOriginal Response:\\n\",original_response)\n",
        "print(\"\\nEnriched Response:\\n\",enriched_response)"
      ],
      "metadata": {
        "trusted": true,
        "execution": {
          "iopub.status.busy": "2025-03-26T05:56:26.480088Z",
          "iopub.execute_input": "2025-03-26T05:56:26.480624Z",
          "iopub.status.idle": "2025-03-26T05:56:30.955919Z",
          "shell.execute_reply.started": "2025-03-26T05:56:26.480569Z",
          "shell.execute_reply": "2025-03-26T05:56:30.954443Z"
        },
        "id": "i-QgmAmH5_Er"
      },
      "outputs": [],
      "execution_count": null
    },
    {
      "cell_type": "code",
      "source": [
        "from sklearn.feature_extraction.text import TfidfVectorizer\n",
        "from sklearn.metrics.pairwise import cosine_similarity\n",
        "def analyze_responses(original_response,enriched_response):\n",
        "    vectorizer=TfidfVectorizer()\n",
        "    tfidf_matrix=vectorizer.fit_transform([original_response,\n",
        "                                           enriched_response])\n",
        "    similarity_score=cosine_similarity(tfidf_matrix[0:1],\n",
        "                                      tfidf_matrix[1:2])[0][0]\n",
        "    original_length=len(original_response.split())\n",
        "    enriched_length=len(enriched_response.split())\n",
        "    print(\"\\n Response Analysis:\")\n",
        "    print(\"Similarity score:\",round(similarity_score,4))\n",
        "    print(\"original response word count:\",original_length)\n",
        "    print(\"enriched response word count:\",enriched_length)\n",
        "analyze_responses(original_response,enriched_response)"
      ],
      "metadata": {
        "trusted": true,
        "execution": {
          "iopub.status.busy": "2025-03-26T05:56:53.193651Z",
          "iopub.execute_input": "2025-03-26T05:56:53.194117Z",
          "iopub.status.idle": "2025-03-26T05:56:53.23311Z",
          "shell.execute_reply.started": "2025-03-26T05:56:53.194082Z",
          "shell.execute_reply": "2025-03-26T05:56:53.231898Z"
        },
        "id": "8Ig-SkNF5_Er"
      },
      "outputs": [],
      "execution_count": null
    },
    {
      "cell_type": "code",
      "source": [
        "#pgm5"
      ],
      "metadata": {
        "trusted": true,
        "id": "fJMLXU4Q5_Es"
      },
      "outputs": [],
      "execution_count": null
    },
    {
      "cell_type": "code",
      "source": [
        "!pip install gensim scipy nltk"
      ],
      "metadata": {
        "trusted": true,
        "execution": {
          "iopub.status.busy": "2025-03-27T03:42:23.075474Z",
          "iopub.execute_input": "2025-03-27T03:42:23.075937Z",
          "iopub.status.idle": "2025-03-27T03:42:27.099162Z",
          "shell.execute_reply.started": "2025-03-27T03:42:23.07591Z",
          "shell.execute_reply": "2025-03-27T03:42:27.097929Z"
        },
        "id": "oMQWOsX35_Et"
      },
      "outputs": [],
      "execution_count": null
    },
    {
      "cell_type": "code",
      "source": [
        "from gensim.models import KeyedVectors\n",
        "import numpy as np\n",
        "import os\n",
        "import nltk\n",
        "from nltk.corpus import wordnet\n",
        "from nltk.tokenize import sent_tokenize\n",
        "nltk.download('wordnet')\n",
        "nltk.download('punkt')"
      ],
      "metadata": {
        "trusted": true,
        "execution": {
          "iopub.status.busy": "2025-03-27T03:42:45.877041Z",
          "iopub.execute_input": "2025-03-27T03:42:45.87743Z",
          "iopub.status.idle": "2025-03-27T03:43:03.02071Z",
          "shell.execute_reply.started": "2025-03-27T03:42:45.877396Z",
          "shell.execute_reply": "2025-03-27T03:43:03.019875Z"
        },
        "id": "RLz2wtKF5_Et"
      },
      "outputs": [],
      "execution_count": null
    },
    {
      "cell_type": "code",
      "source": [
        "def load_word_vectors():\n",
        "    model_path='/kaggle/input/google-word2vec/GoogleNews-vectors-negative300.bin'\n",
        "    model=KeyedVectors.load_word2vec_format(model_path,binary=True)\n",
        "    return model\n",
        "model=load_word_vectors()"
      ],
      "metadata": {
        "trusted": true,
        "execution": {
          "iopub.status.busy": "2025-03-27T03:45:20.767868Z",
          "iopub.execute_input": "2025-03-27T03:45:20.768608Z",
          "iopub.status.idle": "2025-03-27T03:46:26.343485Z",
          "shell.execute_reply.started": "2025-03-27T03:45:20.768571Z",
          "shell.execute_reply": "2025-03-27T03:46:26.34254Z"
        },
        "id": "3QDEE7g-5_Et"
      },
      "outputs": [],
      "execution_count": null
    },
    {
      "cell_type": "code",
      "source": [
        "def get_similar_words(word,model,top_n=5):\n",
        "    try:\n",
        "        similar_words=model.most_similar(word,topn=top_n)\n",
        "        return [w[0] for w in similar_words]\n",
        "    except KeyError:\n",
        "        return []\n",
        "def get_synonyms(word):\n",
        "    try:\n",
        "        synonyms=set()\n",
        "        for syn in wordnet.synsets(word):\n",
        "            for lemma in syn.lemmas():\n",
        "                synonyms.add(lemma.name())\n",
        "        return list(synonyms)[:5]\n",
        "    except LookupError:\n",
        "        return []\n",
        "def generate_story(seed_word,model):\n",
        "    similar_words=get_similar_words(seed_word,model,top_n=3)\n",
        "    synonyms=get_synonyms(seed_word)\n",
        "    word_choices=list(set(similar_words + synonyms))\n",
        "    while len(word_choices)<5:\n",
        "        word_choices.append(seed_word)\n",
        "    story_template=(\n",
        "        f\"Once upon a time, in a mystical land, there was an ancient {seed_word}.\"\n",
        "        f\"Legends spoke of its power hidden within the {word_choices[0]}.\"\n",
        "        f\"One evening, under a {word_choices[1]} sky, a young explorer named Alex set out on a journey.\"\n",
        "        f\"Guided by an old {word_choices[2]}, they discovered a secret passage leading to a hidden realm.\"\n",
        "        f\"Inside, they found an inscription written in {word_choices[3]} and uncovered the secret of {word_choices[4]}.\"\n",
        "        f\"This adventure would change their fate forever, unlocking mysteries long forgotten.\"\n",
        "    )\n",
        "    return \" \".join(sent_tokenize(story_template))"
      ],
      "metadata": {
        "trusted": true,
        "execution": {
          "iopub.status.busy": "2025-03-27T04:04:16.327472Z",
          "iopub.execute_input": "2025-03-27T04:04:16.327894Z",
          "iopub.status.idle": "2025-03-27T04:04:16.335119Z",
          "shell.execute_reply.started": "2025-03-27T04:04:16.327866Z",
          "shell.execute_reply": "2025-03-27T04:04:16.334146Z"
        },
        "id": "oi81Lxx-5_Eu"
      },
      "outputs": [],
      "execution_count": null
    },
    {
      "cell_type": "code",
      "source": [
        "seed_word=\"adventure\"\n",
        "generated_story=generate_story(seed_word,model)\n",
        "print(\"Generated Story:\")\n",
        "print(generated_story)"
      ],
      "metadata": {
        "trusted": true,
        "execution": {
          "iopub.status.busy": "2025-03-27T04:08:11.150826Z",
          "iopub.execute_input": "2025-03-27T04:08:11.153076Z",
          "iopub.status.idle": "2025-03-27T04:08:11.949332Z",
          "shell.execute_reply.started": "2025-03-27T04:08:11.152995Z",
          "shell.execute_reply": "2025-03-27T04:08:11.947833Z"
        },
        "id": "cO0NRaN35_Eu"
      },
      "outputs": [],
      "execution_count": null
    },
    {
      "cell_type": "code",
      "source": [
        "#pgm6"
      ],
      "metadata": {
        "trusted": true,
        "id": "Kp9_b2oO5_Eu"
      },
      "outputs": [],
      "execution_count": null
    },
    {
      "cell_type": "code",
      "source": [
        "!pip install -q transformers"
      ],
      "metadata": {
        "trusted": true,
        "execution": {
          "iopub.status.busy": "2025-03-27T04:34:51.015661Z",
          "iopub.execute_input": "2025-03-27T04:34:51.016647Z",
          "iopub.status.idle": "2025-03-27T04:34:55.431306Z",
          "shell.execute_reply.started": "2025-03-27T04:34:51.016597Z",
          "shell.execute_reply": "2025-03-27T04:34:55.429603Z"
        },
        "id": "pQ54kns95_Ev"
      },
      "outputs": [],
      "execution_count": null
    },
    {
      "cell_type": "code",
      "source": [
        "# Use a pipeline as a high-level helper\n",
        "from transformers import pipeline\n",
        "\n",
        "sentiment_pipeline = pipeline(\"sentiment-analysis\", model=\"distilbert/distilbert-base-uncased-finetuned-sst-2-english\")\n",
        "reviews=[\n",
        "    \"Great sound and super portable! Perfect for outdoor use.\",\n",
        "    \"Decent quality, but bass could be better. Connectivity issues at times.\",\n",
        "    \"Ideal for travel! Compact, great sound, and water-resistant.\",\n",
        "    \"Disappointing. Muffled sound and frequent connection drops.\",\n",
        "    \"Good sound and long battery life, but a bit bulky.\"\n",
        "]\n",
        "results=sentiment_pipeline(reviews)\n",
        "for review, result in zip(reviews,results):\n",
        "    print(f\"Review: {review}\\nsentiment: {result['label']} (confidence: {result['score']:.2f})\\n\")"
      ],
      "metadata": {
        "trusted": true,
        "execution": {
          "iopub.status.busy": "2025-03-27T04:46:43.395753Z",
          "iopub.execute_input": "2025-03-27T04:46:43.39653Z",
          "iopub.status.idle": "2025-03-27T04:46:43.696954Z",
          "shell.execute_reply.started": "2025-03-27T04:46:43.396492Z",
          "shell.execute_reply": "2025-03-27T04:46:43.695881Z"
        },
        "id": "CiovLbh85_Ev"
      },
      "outputs": [],
      "execution_count": null
    },
    {
      "cell_type": "code",
      "source": [
        "#pgm7"
      ],
      "metadata": {
        "trusted": true,
        "id": "YMfKdGea5_Ev"
      },
      "outputs": [],
      "execution_count": null
    },
    {
      "cell_type": "code",
      "source": [
        "!pip install transformers\n"
      ],
      "metadata": {
        "trusted": true,
        "execution": {
          "iopub.status.busy": "2025-03-28T03:25:17.17154Z",
          "iopub.execute_input": "2025-03-28T03:25:17.171809Z",
          "iopub.status.idle": "2025-03-28T03:25:22.862156Z",
          "shell.execute_reply.started": "2025-03-28T03:25:17.171787Z",
          "shell.execute_reply": "2025-03-28T03:25:22.861013Z"
        },
        "id": "K4zBEMN45_Ev"
      },
      "outputs": [],
      "execution_count": null
    },
    {
      "cell_type": "code",
      "source": [
        "from transformers import pipeline\n",
        "summarizer=pipeline(\"summarization\",model=\"facebook/bart-large-cnn\")\n",
        "long_text=\"\"\"\n",
        "Artificial Intelligence (AI) refers to the simulation of human intelligence in machines that are programmed to think and learn like humans.\n",
        "It involves technologies such as machine learning, natural language processing, and robotics, allowing computers to perform tasks that would typically require human cognition, such as problem-solving, decision-making, and pattern recognition.\n",
        "AI is rapidly transforming industries, enhancing efficiency, and creating new opportunities, but it also raises important ethical and societal questions regarding privacy, employment, and control.\n",
        "\"\"\"\n",
        "summary=summarizer(long_text,max_length=130,min_length=30,do_sample=False)\n",
        "print(summary[0]['summary_text'])"
      ],
      "metadata": {
        "trusted": true,
        "execution": {
          "iopub.status.busy": "2025-03-28T03:33:01.34061Z",
          "iopub.execute_input": "2025-03-28T03:33:01.341008Z",
          "iopub.status.idle": "2025-03-28T03:33:45.14995Z",
          "shell.execute_reply.started": "2025-03-28T03:33:01.340972Z",
          "shell.execute_reply": "2025-03-28T03:33:45.14915Z"
        },
        "id": "VsWrEUUN5_E3"
      },
      "outputs": [],
      "execution_count": null
    },
    {
      "cell_type": "code",
      "source": [
        "#pgm8"
      ],
      "metadata": {
        "trusted": true,
        "id": "kzHJlFoW5_E3"
      },
      "outputs": [],
      "execution_count": null
    },
    {
      "cell_type": "code",
      "source": [
        "!pip install langchain langchain-community langchain-cohere\n",
        "!pip install google-auth google-auth-oauthlib google-auth-httplib2 google-api-python-client\n",
        "!pip install cohere"
      ],
      "metadata": {
        "trusted": true,
        "execution": {
          "iopub.status.busy": "2025-03-28T04:20:42.623512Z",
          "iopub.execute_input": "2025-03-28T04:20:42.623889Z",
          "iopub.status.idle": "2025-03-28T04:21:03.210016Z",
          "shell.execute_reply.started": "2025-03-28T04:20:42.62383Z",
          "shell.execute_reply": "2025-03-28T04:21:03.208811Z"
        },
        "id": "_rSwOQW95_E3"
      },
      "outputs": [],
      "execution_count": null
    },
    {
      "cell_type": "code",
      "source": [
        "import os\n",
        "from kaggle_secrets import UserSecretsClient\n",
        "user_secrets=UserSecretsClient()\n",
        "cohere_api_key=user_secrets.get_secret(\"COHERE_API_KEY\")\n",
        "os.environ[\"COHERE_API_KEY\"]=cohere_api_key"
      ],
      "metadata": {
        "trusted": true,
        "execution": {
          "iopub.status.busy": "2025-03-28T04:24:29.2744Z",
          "iopub.execute_input": "2025-03-28T04:24:29.274819Z",
          "iopub.status.idle": "2025-03-28T04:24:29.417972Z",
          "shell.execute_reply.started": "2025-03-28T04:24:29.274786Z",
          "shell.execute_reply": "2025-03-28T04:24:29.417213Z"
        },
        "id": "l5KASrp25_E4"
      },
      "outputs": [],
      "execution_count": null
    },
    {
      "cell_type": "code",
      "source": [
        "https://drive.google.com/file/d/1XIQ40bzxaUytoYeJofRp6KTT5vyp7bEt/view?usp=sharing"
      ],
      "metadata": {
        "trusted": true,
        "id": "67tg4eyV5_E4"
      },
      "outputs": [],
      "execution_count": null
    },
    {
      "cell_type": "code",
      "source": [
        "!pip install gdown\n",
        "!gdown --id 1XIQ40bzxaUytoYeJofRp6KTT5vyp7bEt"
      ],
      "metadata": {
        "trusted": true,
        "execution": {
          "iopub.status.busy": "2025-03-28T04:35:17.307726Z",
          "iopub.execute_input": "2025-03-28T04:35:17.308167Z",
          "iopub.status.idle": "2025-03-28T04:35:25.391103Z",
          "shell.execute_reply.started": "2025-03-28T04:35:17.308134Z",
          "shell.execute_reply": "2025-03-28T04:35:25.389969Z"
        },
        "id": "iZKELkeB5_E4"
      },
      "outputs": [],
      "execution_count": null
    },
    {
      "cell_type": "code",
      "source": [
        "text_content=''\n",
        "with open('/kaggle/working/data.txt','r',encoding='utf-8') as file:\n",
        "    text_content=file.read()\n",
        "    print(text_content)"
      ],
      "metadata": {
        "trusted": true,
        "execution": {
          "iopub.status.busy": "2025-03-28T04:41:04.841315Z",
          "iopub.execute_input": "2025-03-28T04:41:04.841723Z",
          "iopub.status.idle": "2025-03-28T04:41:04.848073Z",
          "shell.execute_reply.started": "2025-03-28T04:41:04.841685Z",
          "shell.execute_reply": "2025-03-28T04:41:04.847102Z"
        },
        "id": "AiV3Lvj35_E4"
      },
      "outputs": [],
      "execution_count": null
    },
    {
      "cell_type": "code",
      "source": [
        "from langchain_cohere import ChatCohere\n",
        "from langchain_cohere.llms import Cohere\n",
        "from langchain_core.prompts import ChatPromptTemplate\n",
        "from langchain_core.documents import Document\n",
        "from langchain.chains.combine_documents import(\n",
        "    create_stuff_documents_chain,\n",
        ")\n",
        "llm=ChatCohere(\n",
        "    cohere_api_key=cohere_api_key,model=\"command-a-03-2025\"\n",
        ")\n",
        "print(text_content)\n",
        "prompt=ChatPromptTemplate.from_messages(\n",
        "    [(\"human\",\"how is ai useful:\\n\\n {context}\")]\n",
        ")\n",
        "chain=create_stuff_documents_chain(llm,prompt)\n",
        "docs=[\n",
        "    Document(page_content=text_content)\n",
        "]\n",
        "chain.invoke({\"context\":docs})"
      ],
      "metadata": {
        "trusted": true,
        "execution": {
          "iopub.status.busy": "2025-03-28T04:52:57.197664Z",
          "iopub.execute_input": "2025-03-28T04:52:57.198028Z",
          "iopub.status.idle": "2025-03-28T04:53:03.803281Z",
          "shell.execute_reply.started": "2025-03-28T04:52:57.197997Z",
          "shell.execute_reply": "2025-03-28T04:53:03.802376Z"
        },
        "id": "Je3bpZJJ5_E5"
      },
      "outputs": [],
      "execution_count": null
    },
    {
      "cell_type": "code",
      "source": [
        "#pgm9"
      ],
      "metadata": {
        "trusted": true,
        "id": "urmjMjSU5_E5"
      },
      "outputs": [],
      "execution_count": null
    },
    {
      "cell_type": "code",
      "source": [
        "!pip install langchain langchain-community langchain-groq\n",
        "!pip install wikipedia pydantic\n",
        "!pip install groq"
      ],
      "metadata": {
        "trusted": true,
        "execution": {
          "iopub.status.busy": "2025-03-29T03:58:09.540972Z",
          "iopub.execute_input": "2025-03-29T03:58:09.541147Z",
          "iopub.status.idle": "2025-03-29T03:58:31.741556Z",
          "shell.execute_reply.started": "2025-03-29T03:58:09.541129Z",
          "shell.execute_reply": "2025-03-29T03:58:31.740653Z"
        },
        "id": "W6bqNqAd5_E5"
      },
      "outputs": [],
      "execution_count": null
    },
    {
      "cell_type": "code",
      "source": [
        "import os\n",
        "from kaggle_secrets import UserSecretsClient\n",
        "user_secrets=UserSecretsClient()\n",
        "groq_api_key=user_secrets.get_secret(\"GROQ_API_KEY\")\n",
        "os.environ[\"GROQ_API_KEY\"]=groq_api_key"
      ],
      "metadata": {
        "trusted": true,
        "execution": {
          "iopub.status.busy": "2025-03-29T04:01:42.399041Z",
          "iopub.execute_input": "2025-03-29T04:01:42.39943Z",
          "iopub.status.idle": "2025-03-29T04:01:42.550066Z",
          "shell.execute_reply.started": "2025-03-29T04:01:42.3994Z",
          "shell.execute_reply": "2025-03-29T04:01:42.549252Z"
        },
        "id": "nlTw5AZD5_E6"
      },
      "outputs": [],
      "execution_count": null
    },
    {
      "cell_type": "code",
      "source": [
        "from pydantic import BaseModel,Field\n",
        "from langchain.chains import LLMChain\n",
        "from langchain.prompts import PromptTemplate\n",
        "from langchain_core.prompts import ChatPromptTemplate\n",
        "from langchain_groq import ChatGroq\n",
        "from typing import Optional\n",
        "import re\n",
        "import groq\n",
        "client=groq.Client(api_key=groq_api_key)"
      ],
      "metadata": {
        "trusted": true,
        "execution": {
          "iopub.status.busy": "2025-03-29T04:08:10.399442Z",
          "iopub.execute_input": "2025-03-29T04:08:10.399729Z",
          "iopub.status.idle": "2025-03-29T04:08:12.333081Z",
          "shell.execute_reply.started": "2025-03-29T04:08:10.399708Z",
          "shell.execute_reply": "2025-03-29T04:08:12.332454Z"
        },
        "id": "CyGGkd4l5_E6"
      },
      "outputs": [],
      "execution_count": null
    },
    {
      "cell_type": "code",
      "source": [
        "class InstitutionInfo(BaseModel):\n",
        "    name:str=Field(...,description=\"Name of the institution\")\n",
        "    founder:Optional[str]=Field(None,description=\"Founder of the institution\")\n",
        "    founded_year:Optional[str]=Field(None,description=\"Year the institution was founded\")\n",
        "    branches:Optional[str]=Field(None,description=\"Current branches in the institution\")\n",
        "    employees:Optional[str]=Field(None,description=\"Number of employees in the institution\")\n",
        "    summary:Optional[str]=Field(None,description=\"Breif 4-line summary of the institution\")"
      ],
      "metadata": {
        "trusted": true,
        "execution": {
          "iopub.status.busy": "2025-03-29T04:15:32.093629Z",
          "iopub.execute_input": "2025-03-29T04:15:32.093935Z",
          "iopub.status.idle": "2025-03-29T04:15:32.100891Z",
          "shell.execute_reply.started": "2025-03-29T04:15:32.093915Z",
          "shell.execute_reply": "2025-03-29T04:15:32.100185Z"
        },
        "id": "1TmEI7Xi5_E6"
      },
      "outputs": [],
      "execution_count": null
    },
    {
      "cell_type": "code",
      "source": [
        "def parse_wikipedia_content(content:str)->InstitutionInfo:\n",
        "    founder_match=re.search(r'(?i)founder[s]+[:\\-\\s]+([^\\n\\r]*)',content)\n",
        "    founded_match=re.search(r'(?i)founded[:\\-\\s]+(\\d{4})',content)\n",
        "    branches_match=re.search(r'(?i)campus|branches[:\\-\\s]+([^\\n\\r]*)',content)\n",
        "    employees_match=re.search(r'(?i)staff|employees[:\\-\\s]+([\\d,]+)',content)\n",
        "    summary=\" \".join(content.split(\".\")[:4])+\".\"\n",
        "    return InstitutionInfo(\n",
        "        name=\"Unknown\",\n",
        "        founder=founder_match.group(1)if founder_match else \"Not Available\",\n",
        "        founded_year=founded_match.group(1)if founded_match else \"Not Available\",\n",
        "        branches=branches_match.group(1)if branches_match else \"Not Available\",\n",
        "        employees=employees_match.group(1)if employees_match else \"Not Available\",\n",
        "        summary=summary\n",
        "    )"
      ],
      "metadata": {
        "trusted": true,
        "execution": {
          "iopub.status.busy": "2025-03-29T04:27:06.323188Z",
          "iopub.execute_input": "2025-03-29T04:27:06.323537Z",
          "iopub.status.idle": "2025-03-29T04:27:06.328347Z",
          "shell.execute_reply.started": "2025-03-29T04:27:06.323514Z",
          "shell.execute_reply": "2025-03-29T04:27:06.327585Z"
        },
        "id": "cLnBQKoJ5_E7"
      },
      "outputs": [],
      "execution_count": null
    },
    {
      "cell_type": "code",
      "source": [
        "def fetch_institution_info(institution_name:str)->InstitutionInfo:\n",
        "    try:\n",
        "        page_content=wikipedia.page(institution_name).content\n",
        "        institution_info=parse_wikipedia_content(page_content)\n",
        "        institution_info.name=institution_name\n",
        "        return institution_info\n",
        "    except wikipedia.exceptions.PageError:\n",
        "        return InstitutionInfo(name=institution_name,summary=\"No wikipedia page found.\")\n",
        "    except wikipedia.exceptions.DisambigationError as e:\n",
        "        return InstitutionInfo(name=institution_name,summary=f\"Multiple results found:{e.options[:5]}\")"
      ],
      "metadata": {
        "trusted": true,
        "execution": {
          "iopub.status.busy": "2025-03-29T04:35:21.231789Z",
          "iopub.execute_input": "2025-03-29T04:35:21.232089Z",
          "iopub.status.idle": "2025-03-29T04:35:21.2366Z",
          "shell.execute_reply.started": "2025-03-29T04:35:21.232067Z",
          "shell.execute_reply": "2025-03-29T04:35:21.235951Z"
        },
        "id": "RJQ86moZ5_E7"
      },
      "outputs": [],
      "execution_count": null
    },
    {
      "cell_type": "code",
      "source": [
        "llm=ChatGroq(model_name=\"llama-3.3-70b-versatile\")\n",
        "prompt=PromptTemplate(\n",
        "    input_variable=[\"institution_name\"],\n",
        "    template=\"\"\"\n",
        "    Extract the following details about {institution_name} from wikipedia:\n",
        "    -Founder\n",
        "    -Founded Year\n",
        "    -Current Branches\n",
        "    -Number of employees\n",
        "    A brief 4-line summary\n",
        "    \"\"\"\n",
        ")\n",
        "chain=LLMChain(llm=llm,prompt=prompt)\n",
        "institution_name=\"T John Institute of Technology\"\n",
        "response=chain.run(institution_name=institution_name)\n",
        "print(response)"
      ],
      "metadata": {
        "trusted": true,
        "execution": {
          "iopub.status.busy": "2025-03-29T04:44:51.457821Z",
          "iopub.execute_input": "2025-03-29T04:44:51.45811Z",
          "iopub.status.idle": "2025-03-29T04:44:52.515116Z",
          "shell.execute_reply.started": "2025-03-29T04:44:51.45809Z",
          "shell.execute_reply": "2025-03-29T04:44:52.514426Z"
        },
        "id": "hlPhosUm5_E7"
      },
      "outputs": [],
      "execution_count": null
    },
    {
      "cell_type": "code",
      "source": [
        "#pgm10"
      ],
      "metadata": {
        "trusted": true,
        "id": "XAzmccPY5_E7"
      },
      "outputs": [],
      "execution_count": null
    },
    {
      "cell_type": "code",
      "source": [
        "!pip install langchain langchain-community langchain-groq\n",
        "!pip install groq\n",
        "!pip install PyMuPDF faiss-cpu langchain requests"
      ],
      "metadata": {
        "trusted": true,
        "execution": {
          "iopub.status.busy": "2025-04-02T04:28:27.300536Z",
          "iopub.execute_input": "2025-04-02T04:28:27.300862Z",
          "iopub.status.idle": "2025-04-02T04:28:48.46676Z",
          "shell.execute_reply.started": "2025-04-02T04:28:27.300831Z",
          "shell.execute_reply": "2025-04-02T04:28:48.465637Z"
        },
        "id": "OXqII8V55_E8"
      },
      "outputs": [],
      "execution_count": null
    },
    {
      "cell_type": "code",
      "source": [
        "import os\n",
        "from kaggle_secrets import UserSecretsClient\n",
        "user_secrets=UserSecretsClient()\n",
        "groq_api_key=user_secrets.get_secret(\"GROQ_API_KEY\")\n",
        "os.environ[\"GROQ_API_KEY\"]=groq_api_key"
      ],
      "metadata": {
        "trusted": true,
        "execution": {
          "iopub.status.busy": "2025-04-01T04:09:54.076226Z",
          "iopub.execute_input": "2025-04-01T04:09:54.076628Z",
          "iopub.status.idle": "2025-04-01T04:09:54.197201Z",
          "shell.execute_reply.started": "2025-04-01T04:09:54.076598Z",
          "shell.execute_reply": "2025-04-01T04:09:54.196337Z"
        },
        "id": "cqwebxg_5_E8"
      },
      "outputs": [],
      "execution_count": null
    },
    {
      "cell_type": "code",
      "source": [
        "from langchain.chains import LLMChain\n",
        "from langchain.prompts import PromptTemplate\n",
        "from langchain_core.prompts import ChatPromptTemplate\n",
        "from langchain_groq import ChatGroq\n",
        "llm=ChatGroq(model_name=\"llama-3.3-70b-versatile\",api_key=groq_api_key)\n",
        "llm"
      ],
      "metadata": {
        "trusted": true,
        "execution": {
          "iopub.status.busy": "2025-04-01T04:11:27.644213Z",
          "iopub.execute_input": "2025-04-01T04:11:27.644593Z",
          "iopub.status.idle": "2025-04-01T04:11:29.394289Z",
          "shell.execute_reply.started": "2025-04-01T04:11:27.644565Z",
          "shell.execute_reply": "2025-04-01T04:11:29.393523Z"
        },
        "id": "-4f6UF625_E8"
      },
      "outputs": [],
      "execution_count": null
    },
    {
      "cell_type": "code",
      "source": [
        "import fitz\n",
        "def extract_text_from_pdf(pdf_path):\n",
        "    \"\"\"Extracts text from a PDF file and returns it as a string.\"\"\"\n",
        "    doc=fitz.open(pdf_path)\n",
        "    text=\"\"\n",
        "    for page in doc:\n",
        "        text+=page.get_text(\"text\")+\"\\n\"\n",
        "    return text"
      ],
      "metadata": {
        "trusted": true,
        "execution": {
          "iopub.status.busy": "2025-04-01T04:15:02.603437Z",
          "iopub.execute_input": "2025-04-01T04:15:02.603836Z",
          "iopub.status.idle": "2025-04-01T04:15:02.680249Z",
          "shell.execute_reply.started": "2025-04-01T04:15:02.60381Z",
          "shell.execute_reply": "2025-04-01T04:15:02.679287Z"
        },
        "id": "i0pcTWpp5_E9"
      },
      "outputs": [],
      "execution_count": null
    },
    {
      "cell_type": "code",
      "source": [
        "pdf_text=extract_text_from_pdf(\"/kaggle/input/ipc-document/ipc.pdf\")\n",
        "print(\"Extracted text from IPC PDF:\",len(pdf_text),\"characters\")"
      ],
      "metadata": {
        "trusted": true,
        "execution": {
          "iopub.status.busy": "2025-04-01T04:26:35.739123Z",
          "iopub.execute_input": "2025-04-01T04:26:35.739542Z",
          "iopub.status.idle": "2025-04-01T04:26:36.354909Z",
          "shell.execute_reply.started": "2025-04-01T04:26:35.739513Z",
          "shell.execute_reply": "2025-04-01T04:26:36.354139Z"
        },
        "id": "KMGXxHML5_E9"
      },
      "outputs": [],
      "execution_count": null
    },
    {
      "cell_type": "code",
      "source": [
        "import faiss\n",
        "import numpy as np\n",
        "from langchain.text_splitter import RecursiveCharacterTextSplitter\n",
        "from sentence_transformers import SentenceTransformer"
      ],
      "metadata": {
        "trusted": true,
        "execution": {
          "iopub.status.busy": "2025-04-01T04:28:06.727904Z",
          "iopub.execute_input": "2025-04-01T04:28:06.728316Z",
          "iopub.status.idle": "2025-04-01T04:28:32.335742Z",
          "shell.execute_reply.started": "2025-04-01T04:28:06.728287Z",
          "shell.execute_reply": "2025-04-01T04:28:32.335073Z"
        },
        "id": "sIoP92M05_E9"
      },
      "outputs": [],
      "execution_count": null
    },
    {
      "cell_type": "code",
      "source": [
        "hf_model=SentenceTransformer(\"sentence-transformers/all-MiniLM-L6-v2\")\n",
        "def create_faiss_index(text):\n",
        "    \"\"\"Chunks IPC text and stores embeddings in FAISS.\"\"\"\n",
        "    text_splitter=RecursiveCharacterTextSplitter(chunk_size=500,chunk_overlap=50)\n",
        "    texts=text_splitter.split_text(text)\n",
        "    embeddings=hf_model.encode(texts)\n",
        "    d=embeddings.shape[1]\n",
        "    index=faiss.IndexFlatL2(d)\n",
        "    index.add(np.array(embeddings))\n",
        "    return index,texts"
      ],
      "metadata": {
        "trusted": true,
        "execution": {
          "iopub.status.busy": "2025-04-01T04:37:09.840506Z",
          "iopub.execute_input": "2025-04-01T04:37:09.841437Z",
          "iopub.status.idle": "2025-04-01T04:37:12.879439Z",
          "shell.execute_reply.started": "2025-04-01T04:37:09.841401Z",
          "shell.execute_reply": "2025-04-01T04:37:12.878419Z"
        },
        "id": "-FWOi0175_E9"
      },
      "outputs": [],
      "execution_count": null
    },
    {
      "cell_type": "code",
      "source": [
        "ipc_faiss_index,ipc_chunks=create_faiss_index(pdf_text)\n",
        "print(\"FAISS Index created with\",len(ipc_chunks),\"chunks.\")"
      ],
      "metadata": {
        "trusted": true,
        "execution": {
          "iopub.status.busy": "2025-04-01T04:39:56.173793Z",
          "iopub.execute_input": "2025-04-01T04:39:56.174238Z",
          "iopub.status.idle": "2025-04-01T04:39:58.481431Z",
          "shell.execute_reply.started": "2025-04-01T04:39:56.174209Z",
          "shell.execute_reply": "2025-04-01T04:39:58.480425Z"
        },
        "id": "GHmMEr255_E-"
      },
      "outputs": [],
      "execution_count": null
    },
    {
      "cell_type": "code",
      "source": [
        "def retrieve_ipc_section(query):\n",
        "    \"\"\"Find the most relevant IPC section based on user query.\"\"\"\n",
        "    query_embedding=hf_model.encode([query])\n",
        "    distances,indices=ipc_faiss_index.search(np.array(query_embedding),k=1)\n",
        "    return ipc_chunks[indices[0][0]] if indices[0][0] < len(ipc_chunks)else \"No relavant section\"\n",
        "query=\"What is the punishment for theft under IPC?\"\n",
        "retrieved_section=retrieve_ipc_section(query)\n",
        "print(\"\\nRelevant IPC Section:\\n\",retrieved_section)"
      ],
      "metadata": {
        "trusted": true,
        "execution": {
          "iopub.status.busy": "2025-04-01T04:48:30.017866Z",
          "iopub.execute_input": "2025-04-01T04:48:30.018268Z",
          "iopub.status.idle": "2025-04-01T04:48:30.096059Z",
          "shell.execute_reply.started": "2025-04-01T04:48:30.018241Z",
          "shell.execute_reply": "2025-04-01T04:48:30.0953Z"
        },
        "id": "4X9HLvRA5_E-"
      },
      "outputs": [],
      "execution_count": null
    },
    {
      "cell_type": "code",
      "source": [
        "prompt=PromptTemplate(\n",
        "    input_variables=[\"ipc_section\",\"query\"],\n",
        "    template=\"\"\"\n",
        "    You are an expert in Indian law, A user asked: \"{query}\"\n",
        "    Based on the Indian Penal Code(IPC),the relevant section is:\n",
        "    (ipc_section)\n",
        "\n",
        "    Please provide:\n",
        "    -A simple explanation\n",
        "    -The Key legal points\n",
        "    -Possible punishments\n",
        "    -A real-world example\n",
        "    \"\"\"\n",
        ")\n",
        "def query_groq(prompt):\n",
        "    response=chain.run()\n",
        "    print(response)\n",
        "    return response\n",
        "def ipc_chatbot(query):\n",
        "    related_section=retrieve_ipc_section(query)\n",
        "    chain=LLMChain(llm=llm,prompt=prompt)\n",
        "    response=chain.run(ipc_section=related_section,query=query)\n",
        "    return response\n",
        "user_query=input(\"Enter your legal question:\")\n",
        "chatbot_response=ipc_chatbot(user_query)\n",
        "print(chatbot_response)"
      ],
      "metadata": {
        "trusted": true,
        "execution": {
          "iopub.status.busy": "2025-04-01T04:55:50.046984Z",
          "iopub.execute_input": "2025-04-01T04:55:50.047358Z",
          "iopub.status.idle": "2025-04-01T04:56:17.510272Z",
          "shell.execute_reply.started": "2025-04-01T04:55:50.047333Z",
          "shell.execute_reply": "2025-04-01T04:56:17.509479Z"
        },
        "id": "VfJAPJST5_E-"
      },
      "outputs": [],
      "execution_count": null
    }
  ]
}